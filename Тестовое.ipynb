{
 "nbformat": 4,
 "nbformat_minor": 0,
 "metadata": {
  "colab": {
   "provenance": [],
   "mount_file_id": "1mBc0e6ABFfDzhrzmTCzAWFLFbxfZt_j4",
   "authorship_tag": "ABX9TyMR0JdiEPs+Ee9zRfg10k7R"
  },
  "kernelspec": {
   "name": "python3",
   "display_name": "Python 3"
  },
  "language_info": {
   "name": "python"
  }
 },
 "cells": [
  {
   "cell_type": "code",
   "execution_count": 8,
   "metadata": {
    "id": "2owwZP_q6st4",
    "executionInfo": {
     "status": "ok",
     "timestamp": 1675313089049,
     "user_tz": -300,
     "elapsed": 15,
     "user": {
      "displayName": "Nadezhda Vetoshkina",
      "userId": "01733364027723671766"
     }
    }
   },
   "outputs": [],
   "source": [
    "import pandas as pd\n",
    "AsStats=pd.read_csv('/content/drive/MyDrive/Colab Notebooks/aviasales detailed report.csv',delimiter=';')\n",
    "PartnerStats=pd.read_csv('/content/drive/MyDrive/Colab Notebooks/partner details report.csv',delimiter=';')\n",
    "PartnerRaw=pd.read_csv('/content/drive/MyDrive/Colab Notebooks/partner raw stats data.csv',delimiter=';')\n",
    "#подключаем pandas и загружаем файлы, предварительно преобразованные в csv. \n",
    "#Также предварительно формат ячеек в столбцах с номерами заказов и ценой был изменён на числовой."
   ]
  },
  {
   "cell_type": "code",
   "source": [
    "PartnerStats.dropna(axis = 0, how ='all', inplace = True)\n",
    "#удаляем строки и столбцы с пустыми значениями из всех таблиц"
   ],
   "metadata": {
    "id": "S2EteYMJ8IFN",
    "executionInfo": {
     "status": "ok",
     "timestamp": 1675312102232,
     "user_tz": -300,
     "elapsed": 490,
     "user": {
      "displayName": "Nadezhda Vetoshkina",
      "userId": "01733364027723671766"
     }
    }
   },
   "execution_count": 4,
   "outputs": []
  },
  {
   "cell_type": "code",
   "source": [
    "PartnerStats.dropna(axis = 1, how ='all', inplace = True)"
   ],
   "metadata": {
    "id": "YAeU_kaIJ48G",
    "executionInfo": {
     "status": "ok",
     "timestamp": 1675312104919,
     "user_tz": -300,
     "elapsed": 3,
     "user": {
      "displayName": "Nadezhda Vetoshkina",
      "userId": "01733364027723671766"
     }
    }
   },
   "execution_count": 5,
   "outputs": []
  },
  {
   "cell_type": "code",
   "source": [
    "PartnerRaw.dropna(axis = 0, how ='all', inplace = True)"
   ],
   "metadata": {
    "id": "bqD_GBNINdBE"
   },
   "execution_count": null,
   "outputs": []
  },
  {
   "cell_type": "code",
   "source": [
    "PartnerRaw.dropna(axis = 1, how ='all', inplace = True)"
   ],
   "metadata": {
    "id": "9pV5c2RKON2F"
   },
   "execution_count": null,
   "outputs": []
  },
  {
   "cell_type": "code",
   "source": [
    "AsStats.dropna(axis = 0, how ='all', inplace = True)"
   ],
   "metadata": {
    "id": "5L5xvQXYUwQg"
   },
   "execution_count": null,
   "outputs": []
  },
  {
   "cell_type": "code",
   "source": [
    "AsStats.dropna(axis = 1, how ='all', inplace = True)"
   ],
   "metadata": {
    "id": "kg32d6-PU8hs"
   },
   "execution_count": null,
   "outputs": []
  },
  {
   "cell_type": "code",
   "source": [
    "PartnerStats.rename({'OrderID': 'orderid'}, axis=1, inplace=True)"
   ],
   "metadata": {
    "id": "aw42o_QTXB5D"
   },
   "execution_count": null,
   "outputs": []
  },
  {
   "cell_type": "code",
   "source": [
    "AsStats.rename({'OrderNumber': 'orderid'}, axis=1, inplace=True)\n",
    "#приводим признак номер заказа к единому виду для последующего слияния таблиц"
   ],
   "metadata": {
    "id": "l0Txrz-fXN3t"
   },
   "execution_count": null,
   "outputs": []
  },
  {
   "cell_type": "code",
   "source": [
    "merged=pd.merge(AsStats, PartnerStats, on='orderid', how='outer', indicator=True)\n",
    "#объединяем таблицы с финальной статистикой AS и партнёра по номерам заказов"
   ],
   "metadata": {
    "id": "zpsICvAiWDYK"
   },
   "execution_count": null,
   "outputs": []
  },
  {
   "cell_type": "code",
   "source": [
    "merged['_merge'].value_counts()\n",
    "#проверяем число совпадений по номерам заказов и видим, \n",
    "#что в нашей стате оказались 122 букинга, которых нет в стате партнёра, \n",
    "#а он передал нам 166 букингов, которых не было в нашей стате — это и есть расхождение.\n",
    "#из визуальных наблюдений можно добавить, что в файле от партнёра есть букинги с нулевой стоимостью, \n",
    "#а также дубликаты букингов с разными признаками (DOM и INT) и разной стоимостью (в том числе отрицательной)."
   ],
   "metadata": {
    "colab": {
     "base_uri": "https://localhost:8080/"
    },
    "id": "ZX7CqevQqDcM",
    "executionInfo": {
     "status": "ok",
     "timestamp": 1675248751370,
     "user_tz": -300,
     "elapsed": 949,
     "user": {
      "displayName": "Nadezhda Vetoshkina",
      "userId": "01733364027723671766"
     }
    },
    "outputId": "c94981db-2566-485e-90e2-a00341146985"
   },
   "execution_count": null,
   "outputs": [
    {
     "output_type": "execute_result",
     "data": {
      "text/plain": [
       "both          680\n",
       "right_only    166\n",
       "left_only     122\n",
       "Name: _merge, dtype: int64"
      ]
     },
     "metadata": {},
     "execution_count": 15
    }
   ]
  },
  {
   "cell_type": "code",
   "source": [
    "#вторая часть задания\n",
    "PartnerRaw1=PartnerRaw.drop_duplicates(subset=['orderid'])\n",
    "#удаляем дубликаты по номерам заказов из таблицы с сырыми данными партнёра "
   ],
   "metadata": {
    "id": "81AJnNKFm7dc"
   },
   "execution_count": null,
   "outputs": []
  },
  {
   "cell_type": "code",
   "source": [
    "AsStats['Profit'].sum()\n",
    "#рассчитываем общую комиссию по нашей стате (просто чтобы показать, что она отличается от вводных в тестовом)"
   ],
   "metadata": {
    "colab": {
     "base_uri": "https://localhost:8080/"
    },
    "id": "Mkw4NtB0ltXV",
    "executionInfo": {
     "status": "ok",
     "timestamp": 1675248757033,
     "user_tz": -300,
     "elapsed": 268,
     "user": {
      "displayName": "Nadezhda Vetoshkina",
      "userId": "01733364027723671766"
     }
    },
    "outputId": "6a04f30e-a532-4785-89e9-f6a1a8696569"
   },
   "execution_count": null,
   "outputs": [
    {
     "output_type": "execute_result",
     "data": {
      "text/plain": [
       "576937.0"
      ]
     },
     "metadata": {},
     "execution_count": 17
    }
   ]
  },
  {
   "cell_type": "code",
   "source": [
    "final=pd.merge(AsStats, PartnerRaw1, on=\"orderid\", how='left')\n",
    "#объединяем таблицы, чтобы получить признак доместика/международки\n",
    "#сливаем данные по левой таблице, т.к. задание – рассчитать профит по броням именно из нашей статы. "
   ],
   "metadata": {
    "id": "38DjnY2ydZVV"
   },
   "execution_count": null,
   "outputs": []
  },
  {
   "cell_type": "code",
   "source": [
    "final1=pd.merge(final, PartnerStats, on=\"orderid\", how='left')\n",
    "#объединяем таблицы, чтобы получить стоимость бронирований партнёра"
   ],
   "metadata": {
    "id": "p-ZhouKGJ6cK"
   },
   "execution_count": null,
   "outputs": []
  },
  {
   "cell_type": "code",
   "source": [
    "domestic=final1[final1['type']=='DOM']\n",
    "#делим датафрейм на букинги доместик и интернешнл."
   ],
   "metadata": {
    "id": "btsUGDcPhMab"
   },
   "execution_count": null,
   "outputs": []
  },
  {
   "cell_type": "code",
   "source": [
    "international=final1[final1['type']=='INT']"
   ],
   "metadata": {
    "id": "bt7T9fJFG50F"
   },
   "execution_count": null,
   "outputs": []
  },
  {
   "cell_type": "code",
   "source": [
    "(international['Value'].sum() * 0.015) + (len(domestic.index) * 40)\n",
    "#рассчитываем общую комиссию в INR как сумму 1.5% от суммы стоимостей INT букингов и \n",
    "#40*число записей с признаком DOM"
   ],
   "metadata": {
    "colab": {
     "base_uri": "https://localhost:8080/"
    },
    "id": "QM3cY6mYKgCq",
    "executionInfo": {
     "status": "ok",
     "timestamp": 1675248767933,
     "user_tz": -300,
     "elapsed": 257,
     "user": {
      "displayName": "Nadezhda Vetoshkina",
      "userId": "01733364027723671766"
     }
    },
    "outputId": "9697bf43-b970-47f2-b1df-1048e41f6e19"
   },
   "execution_count": null,
   "outputs": [
    {
     "output_type": "execute_result",
     "data": {
      "text/plain": [
       "125104.7"
      ]
     },
     "metadata": {},
     "execution_count": 22
    }
   ]
  },
  {
   "cell_type": "code",
   "source": [
    "#Можно посчитать в рублях по курсу из вводного, где 164335 INR = 146186 RUB:\n",
    "((international['Value'].sum() * 0.015) + (len(domestic.index) * 40)) * 146186 / 164335"
   ],
   "metadata": {
    "colab": {
     "base_uri": "https://localhost:8080/"
    },
    "id": "6PuyV758ST9l",
    "executionInfo": {
     "status": "ok",
     "timestamp": 1675248769320,
     "user_tz": -300,
     "elapsed": 305,
     "user": {
      "displayName": "Nadezhda Vetoshkina",
      "userId": "01733364027723671766"
     }
    },
    "outputId": "d200a955-2823-478a-821d-9a00d7203b81"
   },
   "execution_count": null,
   "outputs": [
    {
     "output_type": "execute_result",
     "data": {
      "text/plain": [
       "111288.2567572337"
      ]
     },
     "metadata": {},
     "execution_count": 23
    }
   ]
  },
  {
   "cell_type": "code",
   "source": [
    "#Вывод: судя по тому, что в итоге получилась какая-то хуета, \n",
    "#нужно делать больше манипуляций с данными и их сравнений, например, по статусу заказов,\n",
    "#а также рассматривать список букингов, которые не совпали с партнёром, искать закономерности,\n",
    "#делать гипотезы и проверять их."
   ],
   "metadata": {
    "id": "xOun53UqPOEW"
   },
   "execution_count": null,
   "outputs": []
  }
 ]
}
